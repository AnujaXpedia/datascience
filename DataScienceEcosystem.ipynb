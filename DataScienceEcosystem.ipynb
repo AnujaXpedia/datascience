{
 "cells": [
  {
   "cell_type": "markdown",
   "id": "6ea29810-6356-42a8-a30e-11ef4c05a221",
   "metadata": {},
   "source": [
    "notebook\n"
   ]
  },
  {
   "cell_type": "markdown",
   "id": "02cda79a-7680-483a-bb5b-faa59c0fa2e7",
   "metadata": {},
   "source": [
    "# Data Science Tools and Ecosystem"
   ]
  },
  {
   "cell_type": "markdown",
   "id": "c9e085c9-b839-407a-b558-4a52565d9dc7",
   "metadata": {},
   "source": [
    "In this notebbok, data science source and tools are summarized"
   ]
  },
  {
   "cell_type": "markdown",
   "id": "5660a2ba-5a42-440a-8d6c-4784093cf47e",
   "metadata": {},
   "source": [
    "Some of the popular languages that Data Scientists use are:\n",
    "\n",
    "1. Python\n",
    "2. R\n",
    "3. SQL\n"
   ]
  },
  {
   "cell_type": "markdown",
   "id": "9a4e8a0e-dd9e-4bd6-be06-fe82ad16c1d2",
   "metadata": {},
   "source": [
    "Some of the commonly used libraries used by Data Scientists include:\n",
    "\n",
    "1. Pandas\n",
    "2. NumPy\n",
    "3. Scikit-learn\n"
   ]
  },
  {
   "cell_type": "markdown",
   "id": "3aa7d4aa-a792-4bb8-bf90-0417c88f79c3",
   "metadata": {},
   "source": [
    "Below are a few examples of evaluating arithmetic expressions in Python.\n"
   ]
  },
  {
   "cell_type": "code",
   "execution_count": 17,
   "id": "ad197f74-a5b4-438f-98a2-840179aa9221",
   "metadata": {},
   "outputs": [
    {
     "data": {
      "text/plain": [
       "17"
      ]
     },
     "execution_count": 17,
     "metadata": {},
     "output_type": "execute_result"
    }
   ],
   "source": [
    "# This a simple arithmetic expression to multiply then add integers\n",
    "(3*4)+5\n"
   ]
  },
  {
   "cell_type": "code",
   "execution_count": 20,
   "id": "56fa6a6a-7dec-44c7-9989-1746c644c7ab",
   "metadata": {},
   "outputs": [
    {
     "data": {
      "text/plain": [
       "3.3333333333333335"
      ]
     },
     "execution_count": 20,
     "metadata": {},
     "output_type": "execute_result"
    }
   ],
   "source": [
    "# This will convert 200 minutes to hours by dividing by 60\n",
    "200 / 60\n"
   ]
  },
  {
   "cell_type": "markdown",
   "id": "643518bb-5aab-4cbb-b4e5-0d931e36f5fd",
   "metadata": {},
   "source": [
    "**Objectives:**\n",
    "\n",
    "- List popular languages for Data Science.\n",
    "- Identify commonly used libraries in Data Science.\n",
    "- Convert minutes into hours using Python code.\n",
    "- Perform basic arithmetic operations in Python.\n"
   ]
  },
  {
   "cell_type": "markdown",
   "id": "d6ad791d-dfa0-4983-b17b-f09beaf805ea",
   "metadata": {},
   "source": [
    "## Author\n",
    "\n",
    "Anuja"
   ]
  },
  {
   "cell_type": "code",
   "execution_count": null,
   "id": "76d95a24-f09c-48e7-99cf-d83339bebbad",
   "metadata": {},
   "outputs": [],
   "source": []
  }
 ],
 "metadata": {
  "kernelspec": {
   "display_name": "Python 3 (ipykernel)",
   "language": "python",
   "name": "python3"
  },
  "language_info": {
   "codemirror_mode": {
    "name": "ipython",
    "version": 3
   },
   "file_extension": ".py",
   "mimetype": "text/x-python",
   "name": "python",
   "nbconvert_exporter": "python",
   "pygments_lexer": "ipython3",
   "version": "3.12.4"
  }
 },
 "nbformat": 4,
 "nbformat_minor": 5
}
